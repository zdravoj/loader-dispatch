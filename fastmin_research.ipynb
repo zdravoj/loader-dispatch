{
 "cells": [
  {
   "cell_type": "code",
   "execution_count": 10,
   "metadata": {},
   "outputs": [],
   "source": [
    "import time\n",
    "from statistics import mean, stdev"
   ]
  },
  {
   "cell_type": "code",
   "execution_count": 2,
   "metadata": {},
   "outputs": [],
   "source": [
    "loader_dict= {\n",
    "    \"Shar\": 595,\n",
    "    \"Joe\": 475,\n",
    "    \"Tom\": 660,\n",
    "    \"Corwin\": 420,\n",
    "    \"Dean\": 550,\n",
    "    \"Mike\": 580,\n",
    "    \"Jane\": 430\n",
    "}\n",
    "door_array= [\n",
    "    690,\n",
    "    420,\n",
    "    380,\n",
    "    160,\n",
    "    590,\n",
    "    445,\n",
    "    630,\n",
    "    290,\n",
    "    110,\n",
    "    80\n",
    "]"
   ]
  },
  {
   "cell_type": "code",
   "execution_count": 5,
   "metadata": {},
   "outputs": [],
   "source": [
    "real_scen_loader = {\n",
    "    \"A\": 810,\n",
    "    \"B\": 660,\n",
    "    \"C\": 595,\n",
    "    \"D\": 580,\n",
    "    \"E\": 550,\n",
    "    \"F\": 475,\n",
    "    \"G\": 430,\n",
    "    \"H\": 420,\n",
    "    \"I\": 300\n",
    "}\n",
    "real_scen_doors = [\n",
    "    690,\n",
    "    420,\n",
    "    380,\n",
    "    160,\n",
    "    590,\n",
    "    445,\n",
    "    630,\n",
    "    290,\n",
    "    790,\n",
    "    120,\n",
    "    110,\n",
    "    80\n",
    "]"
   ]
  },
  {
   "cell_type": "code",
   "execution_count": 6,
   "metadata": {},
   "outputs": [
    {
     "name": "stdout",
     "output_type": "stream",
     "text": [
      "{'B': [0], 'G': [1], 'E': [2, 3], 'D': [4], 'F': [5], 'C': [6], 'I': [7], 'A': [8], 'H': [9, 10, 11]}\n",
      "[-30.0, 10.0, -72.5, -10.0, 30.0, -35.0, 10.0, 20.0, 26.0]\n",
      "-147.5\n"
     ]
    }
   ],
   "source": [
    "from overflow_minimizer import minimize_overflow\n",
    "\n",
    "loader_dispatch, ind_loader_overflow, min_overflow = minimize_overflow(real_scen_loader, real_scen_doors)\n",
    "print(loader_dispatch)\n",
    "print(ind_loader_overflow)\n",
    "print(min_overflow)"
   ]
  },
  {
   "cell_type": "code",
   "execution_count": 11,
   "metadata": {},
   "outputs": [
    {
     "name": "stdout",
     "output_type": "stream",
     "text": [
      "312.03477969169614 0.5879478335576573\n"
     ]
    }
   ],
   "source": [
    "from overflow_minimizer import minimize_overflow\n",
    "method_times = list()\n",
    "for i in range(5):\n",
    "    start = time.time()\n",
    "    loader_dispatch, ind_loader_overflow, min_overflow = minimize_overflow(real_scen_loader, real_scen_doors)\n",
    "    end = time.time()\n",
    "    method_times.append(end - start)\n",
    "print(mean(method_times), stdev(method_times))"
   ]
  },
  {
   "cell_type": "code",
   "execution_count": 48,
   "metadata": {},
   "outputs": [
    {
     "name": "stdout",
     "output_type": "stream",
     "text": [
      "[['A', 810.0, 688.5, 648.0, 631.8], ['B', 660.0, 561.0, 528.0, 514.8], ['C', 595.0, 505.75, 476.0, 464.1], ['D', 580.0, 493.0, 464.0, 452.4], ['E', 550.0, 467.5, 440.0, 429.0], ['F', 475.0, 403.75, 380.0, 370.5], ['G', 430.0, 365.5, 344.0, 335.4], ['H', 420.0, 357.0, 336.0, 327.6], ['I', 300.0, 255.0, 240.0, 234.0]]\n"
     ]
    }
   ],
   "source": [
    "efficiency = [1.0, 0.85, 0.8, 0.78]\n",
    "loader_table = [\n",
    "    [k]+[round(v*x, 2) for x in efficiency] for k,v in real_scen_loader.items()\n",
    "]\n",
    "print(loader_table)"
   ]
  },
  {
   "cell_type": "code",
   "execution_count": 49,
   "metadata": {},
   "outputs": [
    {
     "name": "stdout",
     "output_type": "stream",
     "text": [
      "[['A', 810.0, 688.5, 648.0, 631.8], ['B', 660.0, 561.0, 528.0, 514.8], ['C', 595.0, 505.75, 476.0, 464.1], ['D', 580.0, 493.0, 464.0, 452.4], ['E', 550.0, 467.5, 440.0, 429.0], ['F', 475.0, 403.75, 380.0, 370.5], ['G', 430.0, 365.5, 344.0, 335.4], ['H', 420.0, 357.0, 336.0, 327.6], ['I', 300.0, 255.0, 240.0, 234.0]]\n"
     ]
    }
   ],
   "source": [
    "loader_table_sorted = loader_table.copy()\n",
    "loader_table_sorted.sort(key= lambda x: x[1], reverse= True)\n",
    "print(loader_table_sorted)"
   ]
  },
  {
   "cell_type": "code",
   "execution_count": 50,
   "metadata": {},
   "outputs": [
    {
     "name": "stdout",
     "output_type": "stream",
     "text": [
      "[[0], [1], [2, 3], [4], [5], [6], [7], [8], [9, 10, 11]]\n",
      "[[690], [420], [380, 160], [590], [445], [630], [290], [790], [120, 110, 80]]\n",
      "[690, 420, 540, 590, 445, 630, 290, 790, 310]\n"
     ]
    }
   ],
   "source": [
    "from overflow_minimizer import get_assignments\n",
    "\n",
    "optim_door_assign = [1, 1, 2, 1, 1, 1, 1, 1, 3]\n",
    "assignment_structure = get_assignments(optim_door_assign)\n",
    "doors_assigned = [[real_scen_doors[i]for i in assignment] for assignment in assignment_structure]\n",
    "assignment_sums = [sum(l) for l in doors_assigned]\n",
    "print(assignment_structure)\n",
    "print(doors_assigned)\n",
    "print(assignment_sums)"
   ]
  },
  {
   "cell_type": "code",
   "execution_count": 51,
   "metadata": {},
   "outputs": [
    {
     "name": "stdout",
     "output_type": "stream",
     "text": [
      "[(0,), (1,), (2, 3), (4,), (5,), (6,), (7,), (8,), (9, 10, 11)]\n"
     ]
    }
   ],
   "source": [
    "assignment_structure_tups = [tuple(assignment) for assignment in assignment_structure]\n",
    "print(assignment_structure_tups)"
   ]
  },
  {
   "cell_type": "code",
   "execution_count": 52,
   "metadata": {},
   "outputs": [
    {
     "name": "stdout",
     "output_type": "stream",
     "text": [
      "[(690, (0,)), (420, (1,)), (540, (2, 3)), (590, (4,)), (445, (5,)), (630, (6,)), (290, (7,)), (790, (8,)), (310, (9, 10, 11))]\n",
      "[(790, (8,)), (690, (0,)), (630, (6,)), (590, (4,)), (540, (2, 3)), (445, (5,)), (420, (1,)), (310, (9, 10, 11)), (290, (7,))]\n"
     ]
    }
   ],
   "source": [
    "assignment_groups = list(zip(assignment_sums, assignment_structure_tups))\n",
    "assignment_groups_sorted = assignment_groups.copy()\n",
    "assignment_groups_sorted.sort(key=lambda x: x[0], reverse=True)\n",
    "print(assignment_groups)\n",
    "print(assignment_groups_sorted)"
   ]
  },
  {
   "cell_type": "code",
   "execution_count": 53,
   "metadata": {},
   "outputs": [
    {
     "name": "stdout",
     "output_type": "stream",
     "text": [
      "{'A': (8,), 'B': (0,), 'C': (6,), 'D': (4,), 'E': (2, 3), 'F': (5,), 'G': (1,), 'H': (9, 10, 11), 'I': (7,)}\n"
     ]
    }
   ],
   "source": [
    "dispatch = {k: v for k, v in zip(\n",
    "    [list(i) for i in zip(*loader_table_sorted)][0],\n",
    "    [list(i) for i in zip(*assignment_groups_sorted)][1]\n",
    ")\n",
    "}\n",
    "print(dispatch)"
   ]
  },
  {
   "cell_type": "code",
   "execution_count": null,
   "metadata": {},
   "outputs": [],
   "source": [
    "# get unique combinations of doors 1 <= x <= 4 that add to num_loaders\n"
   ]
  }
 ],
 "metadata": {
  "kernelspec": {
   "display_name": "venv",
   "language": "python",
   "name": "python3"
  },
  "language_info": {
   "codemirror_mode": {
    "name": "ipython",
    "version": 3
   },
   "file_extension": ".py",
   "mimetype": "text/x-python",
   "name": "python",
   "nbconvert_exporter": "python",
   "pygments_lexer": "ipython3",
   "version": "3.10.11"
  },
  "orig_nbformat": 4
 },
 "nbformat": 4,
 "nbformat_minor": 2
}
