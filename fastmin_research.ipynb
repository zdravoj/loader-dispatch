{
 "cells": [
  {
   "cell_type": "code",
   "execution_count": 1,
   "metadata": {},
   "outputs": [],
   "source": [
    "import time\n",
    "from statistics import mean, stdev"
   ]
  },
  {
   "cell_type": "code",
   "execution_count": 2,
   "metadata": {},
   "outputs": [],
   "source": [
    "loader_dict= {\n",
    "    \"Shar\": 595,\n",
    "    \"Joe\": 475,\n",
    "    \"Tom\": 660,\n",
    "    \"Corwin\": 420,\n",
    "    \"Dean\": 550,\n",
    "    \"Mike\": 580,\n",
    "    \"Jane\": 430\n",
    "}\n",
    "door_array= [\n",
    "    690,\n",
    "    420,\n",
    "    380,\n",
    "    160,\n",
    "    590,\n",
    "    445,\n",
    "    630,\n",
    "    290,\n",
    "    110,\n",
    "    80\n",
    "]"
   ]
  },
  {
   "cell_type": "code",
   "execution_count": 3,
   "metadata": {},
   "outputs": [
    {
     "name": "stdout",
     "output_type": "stream",
     "text": [
      "1.772039818763733 0.02162265402184949\n"
     ]
    }
   ],
   "source": [
    "from overflow_minimizer import minimize_overflow\n",
    "method_times = list()\n",
    "for i in range(10):\n",
    "    start = time.time()\n",
    "    loader_dispatch, ind_loader_overflow, min_overflow = minimize_overflow(loader_dict, door_array)\n",
    "    end = time.time()\n",
    "    method_times.append(end - start)\n",
    "print(mean(method_times), stdev(method_times))"
   ]
  },
  {
   "cell_type": "code",
   "execution_count": 4,
   "metadata": {},
   "outputs": [
    {
     "name": "stdout",
     "output_type": "stream",
     "text": [
      "1.973720169067383 0.010445486584323958\n"
     ]
    }
   ],
   "source": [
    "from of_min_class import OverflowMinimizer\n",
    "class_times = list()\n",
    "for i in range(10):\n",
    "    start = time.time()\n",
    "    minimizer = OverflowMinimizer(loader_dict= loader_dict, door_array= door_array)\n",
    "    loader_dispatch, ind_loader_overflow, min_overflow = minimizer.minimize_overflow()\n",
    "    end = time.time()\n",
    "    class_times.append(end - start)\n",
    "print(mean(class_times), stdev(class_times))"
   ]
  }
 ],
 "metadata": {
  "kernelspec": {
   "display_name": "venv",
   "language": "python",
   "name": "python3"
  },
  "language_info": {
   "codemirror_mode": {
    "name": "ipython",
    "version": 3
   },
   "file_extension": ".py",
   "mimetype": "text/x-python",
   "name": "python",
   "nbconvert_exporter": "python",
   "pygments_lexer": "ipython3",
   "version": "3.10.11"
  },
  "orig_nbformat": 4
 },
 "nbformat": 4,
 "nbformat_minor": 2
}
